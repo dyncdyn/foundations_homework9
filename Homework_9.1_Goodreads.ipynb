{
 "cells": [
  {
   "cell_type": "code",
   "execution_count": 2,
   "metadata": {},
   "outputs": [],
   "source": [
    "import pandas as pd\n",
    "import requests\n",
    "from bs4 import BeautifulSoup"
   ]
  },
  {
   "cell_type": "code",
   "execution_count": 3,
   "metadata": {},
   "outputs": [],
   "source": [
    "response = requests.get('https://www.goodreads.com/list/show/6934.Science_Fiction_Books_by_Female_Authors')\n",
    "doc = BeautifulSoup(response.text)"
   ]
  },
  {
   "cell_type": "code",
   "execution_count": 4,
   "metadata": {},
   "outputs": [
    {
     "name": "stdout",
     "output_type": "stream",
     "text": [
      "Now Scraping https://www.goodreads.com/list/show/6934.Science_Fiction_Books_by_Female_Authors?page=1\n",
      "Now Scraping https://www.goodreads.com/list/show/6934.Science_Fiction_Books_by_Female_Authors?page=2\n",
      "Now Scraping https://www.goodreads.com/list/show/6934.Science_Fiction_Books_by_Female_Authors?page=3\n",
      "Now Scraping https://www.goodreads.com/list/show/6934.Science_Fiction_Books_by_Female_Authors?page=4\n",
      "Now Scraping https://www.goodreads.com/list/show/6934.Science_Fiction_Books_by_Female_Authors?page=5\n",
      "Now Scraping https://www.goodreads.com/list/show/6934.Science_Fiction_Books_by_Female_Authors?page=6\n",
      "Now Scraping https://www.goodreads.com/list/show/6934.Science_Fiction_Books_by_Female_Authors?page=7\n",
      "Now Scraping https://www.goodreads.com/list/show/6934.Science_Fiction_Books_by_Female_Authors?page=8\n",
      "Now Scraping https://www.goodreads.com/list/show/6934.Science_Fiction_Books_by_Female_Authors?page=9\n",
      "Now Scraping https://www.goodreads.com/list/show/6934.Science_Fiction_Books_by_Female_Authors?page=10\n",
      "Now Scraping https://www.goodreads.com/list/show/6934.Science_Fiction_Books_by_Female_Authors?page=11\n",
      "Now Scraping https://www.goodreads.com/list/show/6934.Science_Fiction_Books_by_Female_Authors?page=12\n",
      "Now Scraping https://www.goodreads.com/list/show/6934.Science_Fiction_Books_by_Female_Authors?page=13\n",
      "Now Scraping https://www.goodreads.com/list/show/6934.Science_Fiction_Books_by_Female_Authors?page=14\n",
      "Building our dataframe\n"
     ]
    }
   ],
   "source": [
    "books = []\n",
    "for page_num in range(1, 15):\n",
    "    url = f\"https://www.goodreads.com/list/show/6934.Science_Fiction_Books_by_Female_Authors?page={page_num}\"\n",
    "    response = requests.get(url)\n",
    "    doc = BeautifulSoup(response.text)\n",
    "    print('Now Scraping', url)\n",
    "    trs = doc.find_all('tr')\n",
    "    \n",
    "    for tr in trs:\n",
    "        book = {}\n",
    "        book['rank'] = tr.find(class_ = 'number').text\n",
    "        book['title'] = tr.find('span').text\n",
    "        book['author'] = tr.find(class_ = 'authorName').text\n",
    "        book['score'] = tr.find(href=\"#\").text\n",
    "        book['vote'] = tr.find_all(href =\"#\")[1].text\n",
    "        book['rating'] = tr.find(class_=\"minirating\").text\n",
    "        books.append(book)\n",
    "        \n",
    "print(\"Building our dataframe\")\n",
    "df = pd.DataFrame(books)\n",
    "df = df[['rank','title','author','score','vote','rating']]"
   ]
  },
  {
   "cell_type": "code",
   "execution_count": 5,
   "metadata": {},
   "outputs": [],
   "source": [
    "df.to_csv('Goodreads.csv')"
   ]
  },
  {
   "cell_type": "code",
   "execution_count": null,
   "metadata": {},
   "outputs": [],
   "source": []
  },
  {
   "cell_type": "code",
   "execution_count": 6,
   "metadata": {},
   "outputs": [],
   "source": [
    "response = requests.get('https://www.goodreads.com/list/show/6934.Science_Fiction_Books_by_Female_Authors')\n",
    "doc = BeautifulSoup(response.text)"
   ]
  },
  {
   "cell_type": "code",
   "execution_count": 7,
   "metadata": {},
   "outputs": [
    {
     "name": "stdout",
     "output_type": "stream",
     "text": [
      "Now Scraping https://www.goodreads.com/list/show/6934.Science_Fiction_Books_by_Female_Authors?page=1\n",
      "Now Scraping https://www.goodreads.com/list/show/6934.Science_Fiction_Books_by_Female_Authors?page=2\n",
      "Now Scraping https://www.goodreads.com/list/show/6934.Science_Fiction_Books_by_Female_Authors?page=3\n",
      "Now Scraping https://www.goodreads.com/list/show/6934.Science_Fiction_Books_by_Female_Authors?page=4\n",
      "Now Scraping https://www.goodreads.com/list/show/6934.Science_Fiction_Books_by_Female_Authors?page=5\n",
      "Now Scraping https://www.goodreads.com/list/show/6934.Science_Fiction_Books_by_Female_Authors?page=6\n",
      "Now Scraping https://www.goodreads.com/list/show/6934.Science_Fiction_Books_by_Female_Authors?page=7\n",
      "Now Scraping https://www.goodreads.com/list/show/6934.Science_Fiction_Books_by_Female_Authors?page=8\n",
      "Now Scraping https://www.goodreads.com/list/show/6934.Science_Fiction_Books_by_Female_Authors?page=9\n",
      "Now Scraping https://www.goodreads.com/list/show/6934.Science_Fiction_Books_by_Female_Authors?page=10\n",
      "Now Scraping https://www.goodreads.com/list/show/6934.Science_Fiction_Books_by_Female_Authors?page=11\n",
      "Now Scraping https://www.goodreads.com/list/show/6934.Science_Fiction_Books_by_Female_Authors?page=12\n",
      "Now Scraping https://www.goodreads.com/list/show/6934.Science_Fiction_Books_by_Female_Authors?page=13\n",
      "Now Scraping https://www.goodreads.com/list/show/6934.Science_Fiction_Books_by_Female_Authors?page=14\n",
      "Building our dataframe\n"
     ]
    }
   ],
   "source": [
    "import re\n",
    "\n",
    "books = []\n",
    "for page_num in range(1, 15):\n",
    "    url = f\"https://www.goodreads.com/list/show/6934.Science_Fiction_Books_by_Female_Authors?page={page_num}\"\n",
    "    response = requests.get(url)\n",
    "    doc = BeautifulSoup(response.text)\n",
    "    print('Now Scraping', url)\n",
    "    trs = doc.find_all('tr')\n",
    "\n",
    "    for tr in trs:\n",
    "        book = {}\n",
    "        title = tr.find('span').text\n",
    "\n",
    "        if '(' in title:\n",
    "            \n",
    "            regex1 = '(^.*)\\s\\(.*\\#.*\\)'\n",
    "            try:\n",
    "                tl = re.findall(regex1, title)[0]\n",
    "                book['title'] = tl\n",
    "            except:\n",
    "                pass\n",
    "            \n",
    "            regex2 = '.*\\s\\((.*)\\#.*\\)'\n",
    "            try:\n",
    "                series = re.findall(regex2, title)[0]\n",
    "                if ',' in series:\n",
    "                    Series = re.findall('(.*),',series)[0]\n",
    "                    book['series'] = Series\n",
    "                else:\n",
    "                    book['series'] = series\n",
    "            except:\n",
    "                pass\n",
    "            \n",
    "            regex3 = '.*\\s\\(.*\\#(.*)\\)'\n",
    "            try:\n",
    "                number_in_series = re.findall(regex3, title)\n",
    "                book['number_in_series'] = number_in_series[0]\n",
    "            except:\n",
    "                pass\n",
    "            \n",
    "        else:\n",
    "            book['title'] = title \n",
    "            book['series'] = '-'\n",
    "            book['number_in_series'] = '-'\n",
    "        score = tr.find(href=\"#\").text\n",
    "        Score = re.findall('score\\:\\s(.*)', score)\n",
    "        book['score'] = Score[0]\n",
    "        book['vote'] = tr.find_all(href =\"#\")[1].text\n",
    "        rating = tr.find(class_=\"minirating\").text\n",
    "        Rating = re.findall('.*—\\s(.*)\\sratings',rating)\n",
    "        try:\n",
    "            book['number_of_ratings'] = Rating[0]\n",
    "        except:\n",
    "            pass\n",
    "        books.append(book)\n",
    "        \n",
    "print(\"Building our dataframe\")\n",
    "Books = pd.DataFrame(books)\n",
    "Books = Books[['title','series','number_in_series','score','vote','number_of_ratings']]\n"
   ]
  },
  {
   "cell_type": "code",
   "execution_count": 8,
   "metadata": {},
   "outputs": [],
   "source": [
    "Books.to_csv('Goodreads_cleaned.csv')"
   ]
  },
  {
   "cell_type": "code",
   "execution_count": null,
   "metadata": {},
   "outputs": [],
   "source": []
  },
  {
   "cell_type": "code",
   "execution_count": null,
   "metadata": {},
   "outputs": [],
   "source": []
  },
  {
   "cell_type": "code",
   "execution_count": null,
   "metadata": {},
   "outputs": [],
   "source": []
  }
 ],
 "metadata": {
  "kernelspec": {
   "display_name": "Python 3",
   "language": "python",
   "name": "python3"
  },
  "language_info": {
   "codemirror_mode": {
    "name": "ipython",
    "version": 3
   },
   "file_extension": ".py",
   "mimetype": "text/x-python",
   "name": "python",
   "nbconvert_exporter": "python",
   "pygments_lexer": "ipython3",
   "version": "3.7.3"
  }
 },
 "nbformat": 4,
 "nbformat_minor": 2
}
