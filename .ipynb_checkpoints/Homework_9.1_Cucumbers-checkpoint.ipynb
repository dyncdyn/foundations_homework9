{
 "cells": [
  {
   "cell_type": "code",
   "execution_count": 1,
   "metadata": {},
   "outputs": [],
   "source": [
    "import pandas as pd\n",
    "import requests\n",
    "from bs4 import BeautifulSoup"
   ]
  },
  {
   "cell_type": "code",
   "execution_count": 2,
   "metadata": {},
   "outputs": [
    {
     "name": "stdout",
     "output_type": "stream",
     "text": [
      "Now Scraping https://www.epicurious.com/search/cucumbers?page=1\n",
      "Now Scraping https://www.epicurious.com/search/cucumbers?page=2\n",
      "Now Scraping https://www.epicurious.com/search/cucumbers?page=3\n",
      "Now Scraping https://www.epicurious.com/search/cucumbers?page=4\n",
      "Now Scraping https://www.epicurious.com/search/cucumbers?page=5\n",
      "Now Scraping https://www.epicurious.com/search/cucumbers?page=6\n",
      "Now Scraping https://www.epicurious.com/search/cucumbers?page=7\n",
      "Now Scraping https://www.epicurious.com/search/cucumbers?page=8\n",
      "Now Scraping https://www.epicurious.com/search/cucumbers?page=9\n",
      "Now Scraping https://www.epicurious.com/search/cucumbers?page=10\n",
      "Building our dataframe\n"
     ]
    }
   ],
   "source": [
    "cucumbers = []\n",
    "\n",
    "for page_num in range(1, 11):\n",
    "    url = f\"https://www.epicurious.com/search/cucumbers?page={page_num}\"\n",
    "    response = requests.get(url)\n",
    "    doc = BeautifulSoup(response.text)\n",
    "    print('Now Scraping', url)\n",
    "    \n",
    "    articles = doc.find_all('article')\n",
    "#     print(articles)\n",
    "    \n",
    "    for article in articles:\n",
    "        cucumber = {}\n",
    "        try:\n",
    "            tag = article.find(class_=\"tag\")\n",
    "            cucumber['tag'] = tag.text\n",
    "        except:\n",
    "            pass\n",
    "        \n",
    "        try:\n",
    "            cucumber['title'] = article.find_all('a')[0].text\n",
    "        except:\n",
    "            pass\n",
    "        \n",
    "        try:\n",
    "            cucumber['summary'] = article.find(class_=\"dek\").text\n",
    "        except:\n",
    "            pass\n",
    "        \n",
    "        try:\n",
    "            cucumber['rating'] = article.find(itemprop=\"ratingValue\").text\n",
    "        except:\n",
    "            pass\n",
    "        \n",
    "        try:\n",
    "            cucumber['make_again'] = article.find(class_=\"make-again-percentage\").text\n",
    "        except:\n",
    "            pass\n",
    "        \n",
    "        try:\n",
    "            link = article.find_all('a')[0]['href']\n",
    "            cucumber['link'] = f'https://www.epicurious.com/{link}'\n",
    "        except:\n",
    "            pass\n",
    "        \n",
    "        cucumbers.append(cucumber)\n",
    "\n",
    "# print(cucumbers)\n",
    "print(\"Building our dataframe\")\n",
    "df = pd.DataFrame(cucumbers)\n",
    "df = df[['tag','title','summary','rating','make_again','link']]\n",
    "df = df[df.title != 'User Agreement']\n"
   ]
  },
  {
   "cell_type": "code",
   "execution_count": 3,
   "metadata": {},
   "outputs": [],
   "source": [
    "df.to_csv('Cucumbers.csv')"
   ]
  },
  {
   "cell_type": "code",
   "execution_count": null,
   "metadata": {},
   "outputs": [],
   "source": []
  },
  {
   "cell_type": "code",
   "execution_count": null,
   "metadata": {},
   "outputs": [],
   "source": [
    "def scrape_page(row):\n",
    "    # These both work the same\n",
    "    url = f\"https://www.congress.gov/member/\" + row['slug']\n",
    "    url = f\"https://www.congress.gov/member/{row['slug']}\"\n",
    "    # Print out the 'slug' column\n",
    "    # print(\"Scraping\", row['slug'])\n",
    "    print(\"Scraping\", url)"
   ]
  },
  {
   "cell_type": "code",
   "execution_count": 27,
   "metadata": {},
   "outputs": [
    {
     "data": {
      "text/plain": [
       "42"
      ]
     },
     "execution_count": 27,
     "metadata": {},
     "output_type": "execute_result"
    }
   ],
   "source": [
    "df = pd.read_csv(\"Cucumbers.csv\", index_col = 0)\n",
    "recipe = df.loc[df['tag'] == 'recipe']\n",
    "recipes = recipe['link'].to_list()\n",
    "len(recipes)"
   ]
  },
  {
   "cell_type": "code",
   "execution_count": null,
   "metadata": {},
   "outputs": [],
   "source": [
    "Recipes = []\n",
    "\n",
    "for link in recipes:\n",
    "    \n",
    "    Recipe = {}\n",
    "    \n",
    "    response = requests.get(link)\n",
    "    doc = BeautifulSoup(response.text)\n",
    "    print('Now Scraping', link)\n",
    "    \n",
    "    igdts = doc.find(class_=\"ingredients\")\n",
    "    igdt = doc.find(class_=\"ingredient\")\n",
    "    Recipe['ingredients'] = '\\n'.join([igdt.text for igdt in igdts])\n",
    "    \n",
    "    preps = doc.find(class_=\"preparation-steps\")\n",
    "    prep = doc.find(class_=\"preparation-step\")\n",
    "    Recipe['directions'] = '\\n'.join([prep.text for prep in preps])\n",
    "    \n",
    "    tags = doc.find(class_ = 'tags')\n",
    "    tag = doc.find(itemprop = \"recipeCategory\")\n",
    "    Recipe['tags'] = '\\n'.join([tag.text for tag in tags])\n",
    "        \n",
    "    Recipes.append(Recipe)\n",
    "\n",
    "df = pd.DataFrame(Recipes)"
   ]
  },
  {
   "cell_type": "code",
   "execution_count": 30,
   "metadata": {},
   "outputs": [],
   "source": [
    "df.to_csv('Recipes.csv')"
   ]
  },
  {
   "cell_type": "code",
   "execution_count": null,
   "metadata": {},
   "outputs": [],
   "source": []
  }
 ],
 "metadata": {
  "kernelspec": {
   "display_name": "Python 3",
   "language": "python",
   "name": "python3"
  },
  "language_info": {
   "codemirror_mode": {
    "name": "ipython",
    "version": 3
   },
   "file_extension": ".py",
   "mimetype": "text/x-python",
   "name": "python",
   "nbconvert_exporter": "python",
   "pygments_lexer": "ipython3",
   "version": "3.7.3"
  }
 },
 "nbformat": 4,
 "nbformat_minor": 2
}
